{
 "cells": [
  {
   "cell_type": "markdown",
   "metadata": {},
   "source": [
    "### control statements\n",
    "- conditional statements or selection statements\n",
    "   - if-else\n",
    "- iterating statements or looping statements\n",
    "   - while\n",
    "   -for"
   ]
  },
  {
   "cell_type": "code",
   "execution_count": 4,
   "metadata": {},
   "outputs": [
    {
     "name": "stdout",
     "output_type": "stream",
     "text": [
      "enter any year: 2016\n",
      "it is a leap year\n"
     ]
    }
   ],
   "source": [
    "# if-else\n",
    "#To check the input is a leap year or not\n",
    "year= int(input('enter any year: '))\n",
    "if year % 400==0 or (year % 100 != 0 and year % 4 ==0):\n",
    "    print('it is a leap year')\n",
    "else:\n",
    "    print('it is not a leap year')\n"
   ]
  },
  {
   "cell_type": "code",
   "execution_count": 5,
   "metadata": {},
   "outputs": [
    {
     "name": "stdout",
     "output_type": "stream",
     "text": [
      "enter a number: 15\n",
      "1 2 3 4 5 6 7 8 9 10 11 12 13 14 15 "
     ]
    }
   ],
   "source": [
    "# while loop\n",
    "#print numbers from 1 to n\n",
    "#output:1 2 3 4 ...15\n",
    "n=int(input('enter a number: '))\n",
    "i=1\n",
    "while i<=n:\n",
    "    print(i,end=\" \")\n",
    "    i=i+1"
   ]
  },
  {
   "cell_type": "code",
   "execution_count": 3,
   "metadata": {},
   "outputs": [
    {
     "name": "stdout",
     "output_type": "stream",
     "text": [
      "enter a number: 10\n",
      "the sum of even numbers is: 30\n"
     ]
    }
   ],
   "source": [
    "# read a number as an input\n",
    "# output as even numbers sum from 1 to 10\n",
    "n=int(input('enter a number: '))\n",
    "i=1\n",
    "sum=0\n",
    "while i<=n:\n",
    "    if(i%2==0):\n",
    "        sum=sum+i\n",
    "    i=i+1\n",
    "print('the sum of even numbers is:',sum)  "
   ]
  },
  {
   "cell_type": "code",
   "execution_count": 6,
   "metadata": {},
   "outputs": [
    {
     "name": "stdout",
     "output_type": "stream",
     "text": [
      "enter a number: 1234\n",
      "4 3 2 1 "
     ]
    }
   ],
   "source": [
    "n=int(input('enter a number: '))\n",
    "while(n!=0):\n",
    "    print(n%10,end=' ')\n",
    "    n=n//10  # // returns the ouput only as an integer value\n",
    " "
   ]
  },
  {
   "cell_type": "markdown",
   "metadata": {},
   "source": [
    "### Functional Programming\n",
    "- simple\n",
    "- easy to understand\n",
    "- better reusability\n",
    "- lengthy program will be subdivided into sub-programs\n"
   ]
  },
  {
   "cell_type": "markdown",
   "metadata": {},
   "source": [
    "#### syntax\n",
    "def nameofthefunction(<parameters>):\n",
    "    statements\n",
    "    return statement"
   ]
  },
  {
   "cell_type": "code",
   "execution_count": 9,
   "metadata": {},
   "outputs": [
    {
     "data": {
      "text/plain": [
       "12"
      ]
     },
     "execution_count": 9,
     "metadata": {},
     "output_type": "execute_result"
    }
   ],
   "source": [
    "def sumEvenDigits(n):\n",
    "    sum=0\n",
    "    while(n!=0):\n",
    "        r=n%10\n",
    "        if(r%2==0):\n",
    "            sum=sum+r\n",
    "        n=n//10\n",
    "    return sum\n",
    "sumEvenDigits(123456)\n",
    "    \n"
   ]
  },
  {
   "cell_type": "code",
   "execution_count": 13,
   "metadata": {},
   "outputs": [
    {
     "data": {
      "text/plain": [
       "9"
      ]
     },
     "execution_count": 13,
     "metadata": {},
     "output_type": "execute_result"
    }
   ],
   "source": [
    "def largestDigit(n):\n",
    "    largest=0\n",
    "    while(n!=0):\n",
    "        r=n%10\n",
    "        if(r>largest):\n",
    "            largest=r\n",
    "        n=n//10\n",
    "    return largest\n",
    "largestDigit(19535)\n",
    " "
   ]
  },
  {
   "cell_type": "code",
   "execution_count": 5,
   "metadata": {
    "scrolled": true
   },
   "outputs": [
    {
     "name": "stdout",
     "output_type": "stream",
     "text": [
      "yes\n"
     ]
    }
   ],
   "source": [
    "def sum(n):\n",
    "    s=0\n",
    "    p=n\n",
    "    while(n!=0): \n",
    "        r=n%10\n",
    "        i=1\n",
    "        fact=1\n",
    "        while(i<=r):\n",
    "            fact=fact*i\n",
    "            i=i+1\n",
    "        s=s+fact\n",
    "        n=n//10\n",
    "    if(s==p):\n",
    "        print('yes')\n",
    "    else:\n",
    "        print('no')\n",
    "sum(145)\n",
    "    \n",
    "    \n"
   ]
  },
  {
   "cell_type": "code",
   "execution_count": 8,
   "metadata": {},
   "outputs": [
    {
     "name": "stdout",
     "output_type": "stream",
     "text": [
      "it is palindrome\n"
     ]
    }
   ],
   "source": [
    "def palindrome(n):\n",
    "    m=n\n",
    "    sum=0\n",
    "    while(n!=0):\n",
    "        r=n%10\n",
    "        sum=sum*10+r\n",
    "        n=n//10\n",
    "    if(sum==m):\n",
    "        print('it is palindrome')\n",
    "    else:\n",
    "        print('it is not a palindrome')\n",
    "palindrome(1221)\n",
    "    \n",
    "    \n",
    " "
   ]
  },
  {
   "cell_type": "code",
   "execution_count": 9,
   "metadata": {},
   "outputs": [
    {
     "name": "stdout",
     "output_type": "stream",
     "text": [
      "11 12 13 14 15 16 17 18 19 20 21 22 23 24 25 "
     ]
    }
   ],
   "source": [
    "#function to print the numbers between two limits\n",
    "#inputs: 11 25 \n",
    "#output: 11 12 13 14......25\n",
    "def printSeries(lb,ub):\n",
    "    for x in range(lb,ub+1):\n",
    "        print(x,end=' ')\n",
    "    return\n",
    "printSeries(11,25)"
   ]
  },
  {
   "cell_type": "code",
   "execution_count": 12,
   "metadata": {},
   "outputs": [
    {
     "name": "stdout",
     "output_type": "stream",
     "text": [
      "500 502 504 506 508 510 512 514 516 518 520 "
     ]
    }
   ],
   "source": [
    "def alternateNumbers(lb,ub):\n",
    "    for x in range(lb,ub+1,2):\n",
    "        print(x,end=' ')\n",
    "    return\n",
    "alternateNumbers(500,520)"
   ]
  },
  {
   "cell_type": "code",
   "execution_count": null,
   "metadata": {},
   "outputs": [],
   "source": []
  }
 ],
 "metadata": {
  "kernelspec": {
   "display_name": "Python 3",
   "language": "python",
   "name": "python3"
  },
  "language_info": {
   "codemirror_mode": {
    "name": "ipython",
    "version": 3
   },
   "file_extension": ".py",
   "mimetype": "text/x-python",
   "name": "python",
   "nbconvert_exporter": "python",
   "pygments_lexer": "ipython3",
   "version": "3.7.3"
  }
 },
 "nbformat": 4,
 "nbformat_minor": 2
}
