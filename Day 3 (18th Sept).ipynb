{
 "cells": [
  {
   "cell_type": "markdown",
   "metadata": {},
   "source": [
    "## Programming in Python with Strings\n",
    "- Strings\n",
    "- String Slicing\n",
    "- Fundamental Programs and Examples with Strings"
   ]
  },
  {
   "cell_type": "code",
   "execution_count": 18,
   "metadata": {},
   "outputs": [
    {
     "name": "stdout",
     "output_type": "stream",
     "text": [
      "Python\n",
      "Programming\n",
      "A\n",
      "<class 'str'>\n",
      "<class 'str'>\n",
      "<class 'str'>\n"
     ]
    }
   ],
   "source": [
    "s1='Python'\n",
    "s2=\"Programming\"\n",
    "s3='A'\n",
    "print(s1)\n",
    "print(s2)\n",
    "print(s3)\n",
    "print(type(s1))\n",
    "print(type(s2))\n",
    "print(type(s3))"
   ]
  },
  {
   "cell_type": "markdown",
   "metadata": {},
   "source": [
    "### String Slicing"
   ]
  },
  {
   "cell_type": "code",
   "execution_count": 5,
   "metadata": {},
   "outputs": [
    {
     "name": "stdout",
     "output_type": "stream",
     "text": [
      "P\n",
      "y\n",
      "6\n",
      "n\n",
      "n\n",
      "o\n"
     ]
    }
   ],
   "source": [
    "s1=\"Python\"\n",
    "print(s1[0]) # Access the first character of a given string\n",
    "print(s1[1]) # Accessing the second character of a string\n",
    "print(len(s1)) #length of the string s1\n",
    "print(s1[len(s1)-1]) #to access the last character in the string\n",
    "print(s1[-1]) # To access the last character in the string\n",
    "print(s1[-2]) #To access the second last character"
   ]
  },
  {
   "cell_type": "code",
   "execution_count": 6,
   "metadata": {},
   "outputs": [
    {
     "name": "stdout",
     "output_type": "stream",
     "text": [
      "Py\n",
      "on\n",
      "hon\n",
      "tho\n",
      "ytho\n"
     ]
    }
   ],
   "source": [
    "print(s1[0:2]) #access the first two characters\n",
    "print(s1[-2:]) #access the last two chracters\n",
    "print(s1[3:]) #accesses the character from 3 till the last\n",
    "print(s1[2:5]) #access the characters from 2 to 5\n",
    "print(s1[1:-1]) #access the characters except 1st and last characters"
   ]
  },
  {
   "cell_type": "code",
   "execution_count": 7,
   "metadata": {},
   "outputs": [
    {
     "data": {
      "text/plain": [
       "'nohtyP'"
      ]
     },
     "execution_count": 7,
     "metadata": {},
     "output_type": "execute_result"
    }
   ],
   "source": [
    "s1[-1::-1] #Reverse the string"
   ]
  },
  {
   "cell_type": "code",
   "execution_count": 8,
   "metadata": {},
   "outputs": [
    {
     "data": {
      "text/plain": [
       "'Pto'"
      ]
     },
     "execution_count": 8,
     "metadata": {},
     "output_type": "execute_result"
    }
   ],
   "source": [
    "#access the alternate charaters in string \n",
    "s1[::2]"
   ]
  },
  {
   "cell_type": "code",
   "execution_count": 9,
   "metadata": {},
   "outputs": [
    {
     "data": {
      "text/plain": [
       "'nhy'"
      ]
     },
     "execution_count": 9,
     "metadata": {},
     "output_type": "execute_result"
    }
   ],
   "source": [
    "#access the alternate characters from reverse direction\n",
    "s1[::-2]"
   ]
  },
  {
   "cell_type": "code",
   "execution_count": 10,
   "metadata": {},
   "outputs": [
    {
     "data": {
      "text/plain": [
       "'Ph'"
      ]
     },
     "execution_count": 10,
     "metadata": {},
     "output_type": "execute_result"
    }
   ],
   "source": [
    "s1[::3]"
   ]
  },
  {
   "cell_type": "markdown",
   "metadata": {},
   "source": [
    "### Functions with String Operations"
   ]
  },
  {
   "cell_type": "code",
   "execution_count": 11,
   "metadata": {},
   "outputs": [
    {
     "data": {
      "text/plain": [
       "'nohtyP'"
      ]
     },
     "execution_count": 11,
     "metadata": {},
     "output_type": "execute_result"
    }
   ],
   "source": [
    "#reverse the string\n",
    "def reversestr(s):\n",
    "    return s[-1::-1]\n",
    "reversestr('Python')\n"
   ]
  },
  {
   "cell_type": "code",
   "execution_count": 26,
   "metadata": {},
   "outputs": [
    {
     "name": "stdout",
     "output_type": "stream",
     "text": [
      "True\n",
      "False\n"
     ]
    }
   ],
   "source": [
    "# to check the given string is palindrome or not a palindrome\n",
    "def ispalindrome(s):\n",
    "    s1=s[-1::-1]\n",
    "    if s==s1:\n",
    "        return True\n",
    "    return False\n",
    "print(ispalindrome('mom'))\n",
    "print(ispalindrome('Python'))"
   ]
  },
  {
   "cell_type": "code",
   "execution_count": 19,
   "metadata": {},
   "outputs": [
    {
     "name": "stdout",
     "output_type": "stream",
     "text": [
      "P T H "
     ]
    }
   ],
   "source": [
    "# Function to print the upper case characters from the string\n",
    "# ASCII values\n",
    "# A-Z: 65-90\n",
    "# a-z: 97-122\n",
    "# 0-9: 48-57\n",
    "#space: 32\n",
    "def printUpper(s):\n",
    "    for i in range(len(s)):\n",
    "        if ord(s[i])>=65 and ord(s[i])<=90: #ord() function gives the output as number which is the ASCII vaue of the character\n",
    "            print(s[i],end=' ')\n",
    "    return\n",
    "printUpper('PyTHon') # P T"
   ]
  },
  {
   "cell_type": "code",
   "execution_count": 30,
   "metadata": {},
   "outputs": [
    {
     "name": "stdout",
     "output_type": "stream",
     "text": [
      "P Y t H o n \n",
      "Same Count\n"
     ]
    }
   ],
   "source": [
    "# Function to return the output as \"SameCount\" or \"Programming\"\n",
    "# SameCount-- when the no. of lower case characters equals the number of upper case characters\n",
    "# Programming-- when the counts are not equal\n",
    "\n",
    "def Count(s):\n",
    "    c1=0\n",
    "    c2=0\n",
    "    for i in range(len(s)):\n",
    "        if ord(s[i])>=65 and ord(s[i])<=90:\n",
    "            print(s[i],end=' ')\n",
    "            c1=c1+1\n",
    "        if ord(s[i])>=97 and ord(s[i])<=122:\n",
    "            print(s[i],end=' ')\n",
    "            c2=c2+1\n",
    "    if c1==c2:\n",
    "        print('\\nSame Count')\n",
    "    else:\n",
    "        print('\\nProgramming')\n",
    "Count('PYtHon')\n",
    "        "
   ]
  },
  {
   "cell_type": "code",
   "execution_count": 33,
   "metadata": {},
   "outputs": [
    {
     "name": "stdout",
     "output_type": "stream",
     "text": [
      "9 8 1 2 3 "
     ]
    }
   ],
   "source": [
    "#function to extract the digits from the given string\n",
    "def digits(s):\n",
    "    for i in range(len(s)):\n",
    "        if ord(s[i])>=48 and ord(s[i])<=57:\n",
    "            print(s[i],end=' ')\n",
    "digits('Applica98tion123')"
   ]
  },
  {
   "cell_type": "code",
   "execution_count": 14,
   "metadata": {},
   "outputs": [
    {
     "name": "stdout",
     "output_type": "stream",
     "text": [
      "23\n"
     ]
    }
   ],
   "source": [
    "# Function to add the digits of the given String\n",
    "def addDigits(s):\n",
    "    c=0\n",
    "    for i in range(len(s)):\n",
    "        if ord(s[i])>=48 and ord(s[i])<=57:\n",
    "            c=c+int(s[i])\n",
    "    print(c)\n",
    "addDigits('Applica98tion123')\n",
    "            "
   ]
  },
  {
   "cell_type": "code",
   "execution_count": 24,
   "metadata": {},
   "outputs": [
    {
     "name": "stdout",
     "output_type": "stream",
     "text": [
      "IS"
     ]
    }
   ],
   "source": [
    "#function to print 2nd word in upper case\n",
    "def UCword(s):\n",
    "    spacecount=0;\n",
    "    for i in range(len(s)):\n",
    "        if ord(s[i])==32:\n",
    "            spacecount=spacecount+1;\n",
    "        if spacecount==1:\n",
    "                if ord(s[i])>=65 and ord(s[i])<=90:\n",
    "                    print(s[i],end='')\n",
    "                elif ord(s[i])>=97 and ord(s[i])<=122:\n",
    "                    print(chr(ord(s[i])-32),end='')\n",
    "        if spacecount==2:\n",
    "            break\n",
    "UCword('this is python')\n",
    "        \n",
    "        "
   ]
  },
  {
   "cell_type": "markdown",
   "metadata": {},
   "source": [
    "## Lists\n",
    "- One of the data structures in phython\n",
    "- Data Structure means to store,sort, and search operations\n",
    "- It is one common data structure in Python, the items of list separated by comma and enclosed in square brackets []\n",
    "* EXMAPLE:\n",
    "  - list1= [1,2,3,4,5]\n",
    "  - list2=[\"Gitam\",1,2,1.89,\"Vizag\"]"
   ]
  },
  {
   "cell_type": "code",
   "execution_count": 23,
   "metadata": {},
   "outputs": [
    {
     "name": "stdout",
     "output_type": "stream",
     "text": [
      "[1, 8, 16, 9, 2]\n",
      "1\n",
      "8\n",
      "2\n",
      "9\n",
      "[16, 9, 2]\n",
      "[16, 9]\n"
     ]
    }
   ],
   "source": [
    "li=[1,8,16,9,2]\n",
    "print(li) \n",
    "print(li[0]) #access the 1st item of the list\n",
    "print(li[1]) #access the second item of the list\n",
    "print(li[-1]) #access the last item of the list\n",
    "print(li[-2]) #access the second last item of the list\n",
    "print(li[2:])\n",
    "print(li[2:4])"
   ]
  },
  {
   "cell_type": "code",
   "execution_count": 1,
   "metadata": {},
   "outputs": [
    {
     "name": "stdout",
     "output_type": "stream",
     "text": [
      "['Gitam', 1927, 2018, 2019, 'vizag']\n",
      "['Gitam', 3456, 2018, 2019, 'vizag']\n",
      "['Gitam', 3456, 2018, 'vizag']\n"
     ]
    }
   ],
   "source": [
    "li=['Gitam',1927,2018,2019,'vizag']\n",
    "print(li)\n",
    "#update the list item with value using index\n",
    "li[1]=3456\n",
    "print(li)\n",
    "#delete an item from the list\n",
    "del li[3]\n",
    "print(li)"
   ]
  },
  {
   "cell_type": "code",
   "execution_count": 3,
   "metadata": {},
   "outputs": [
    {
     "name": "stdout",
     "output_type": "stream",
     "text": [
      "4\n",
      "[4, 29, 37, 12, 4, 29, 37, 12]\n",
      "True\n",
      "False\n",
      "4 29 37 12 \n",
      "4 29 37 12 "
     ]
    }
   ],
   "source": [
    "#basic list operations\n",
    "li=[4,29,37,12]\n",
    "print(len(li)) #print length oh list\n",
    "print(li*2) #repitition of list\n",
    "print(29 in li)\n",
    "print(78 in li)\n",
    "#access the list items from the iterations\n",
    "for i in range(len(li)):   #1st way using range()\n",
    "    print(li[i],end=' ')\n",
    "print()\n",
    "for i in li:               #2nd way without using range()\n",
    "    print(i,end=' ')"
   ]
  },
  {
   "cell_type": "code",
   "execution_count": 8,
   "metadata": {},
   "outputs": [
    {
     "name": "stdout",
     "output_type": "stream",
     "text": [
      "9\n",
      "2\n",
      "25\n",
      "5\n"
     ]
    }
   ],
   "source": [
    "#basic list functions\n",
    "li=[2,3,4,7,9]\n",
    "print(max(li)) \n",
    "print(min(li))\n",
    "print(sum(li))\n",
    "print(sum(li)//len(li))"
   ]
  },
  {
   "cell_type": "code",
   "execution_count": 1,
   "metadata": {},
   "outputs": [
    {
     "data": {
      "text/plain": [
       "3"
      ]
     },
     "execution_count": 1,
     "metadata": {},
     "output_type": "execute_result"
    }
   ],
   "source": [
    "#methods of list\n",
    "li=[1,9,13,65,34]\n",
    "li.append(45)\n",
    "li.insert(2,36)\n",
    "li.append(23)\n",
    "li.count(9)\n",
    "li.index(13)"
   ]
  },
  {
   "cell_type": "code",
   "execution_count": 2,
   "metadata": {},
   "outputs": [
    {
     "data": {
      "text/plain": [
       "9"
      ]
     },
     "execution_count": 2,
     "metadata": {},
     "output_type": "execute_result"
    }
   ],
   "source": [
    "# methods of list object\n",
    "li.sort() #sorts in ascending order\n",
    "li.pop() #removes the last index value\n",
    "li.pop(1) #removes the value from the specified index"
   ]
  },
  {
   "cell_type": "code",
   "execution_count": 3,
   "metadata": {},
   "outputs": [
    {
     "name": "stdout",
     "output_type": "stream",
     "text": [
      "45\n",
      "22\n"
     ]
    }
   ],
   "source": [
    "# function to return the largest number from the list\n",
    "def largeNumber(li):\n",
    "    li.sort()\n",
    "    return li[-1]\n",
    "def genericLarge(li,n):\n",
    "    li.sort()\n",
    "    return li[-n]\n",
    "li=[19,1,25,6,9,45,22]\n",
    "print(largeNumber(li))\n",
    "print(genericLarge(li,3))"
   ]
  },
  {
   "cell_type": "code",
   "execution_count": 4,
   "metadata": {},
   "outputs": [
    {
     "name": "stdout",
     "output_type": "stream",
     "text": [
      "1\n",
      "19\n"
     ]
    }
   ],
   "source": [
    "# Fucntion to find the least and generic least number from the list\n",
    "def leastNumber(li):\n",
    "    li.sort()\n",
    "    return li[0]\n",
    "def genericLeastNumber(li,n):\n",
    "    li.sort()\n",
    "    return li[n-1]\n",
    "li=[19,1,25,6,9,45,22]\n",
    "print(leastNumber(li))\n",
    "print(genericLeastNumber(li,4))\n",
    "    "
   ]
  },
  {
   "cell_type": "markdown",
   "metadata": {},
   "source": [
    "## File Handling\n",
    "- File- Document which contains some information and resides on permanent devices\n",
    "- Different types of File-- .txt, .pdf, .doc, .ppf etc\n",
    "- Input - Keyboard\n",
    "- Output - File System"
   ]
  },
  {
   "cell_type": "code",
   "execution_count": 22,
   "metadata": {},
   "outputs": [
    {
     "name": "stdout",
     "output_type": "stream",
     "text": [
      "File is successfully created and data has been inserted\n"
     ]
    }
   ],
   "source": [
    "# Function to create file and write some data to the file\n",
    "# Mode-w: it creates the file and writes some data\n",
    "# If the file already exists with same name then it will rewrite the data\n",
    "def createFile(filename):\n",
    "    f=open(filename,'w')\n",
    "    for i in range(10):\n",
    "        f.write('This is %d line\\n'%i)\n",
    "    print('File is successfully created and data has been inserted')\n",
    "    return\n",
    "createFile('data.txt')"
   ]
  },
  {
   "cell_type": "code",
   "execution_count": 6,
   "metadata": {},
   "outputs": [
    {
     "data": {
      "text/plain": [
       "'C:\\\\Users\\\\Surendra-pc\\\\Desktop\\\\problem solving and programming'"
      ]
     },
     "execution_count": 6,
     "metadata": {},
     "output_type": "execute_result"
    }
   ],
   "source": [
    "pwd"
   ]
  },
  {
   "cell_type": "code",
   "execution_count": 4,
   "metadata": {},
   "outputs": [
    {
     "name": "stdout",
     "output_type": "stream",
     "text": [
      "successful\n"
     ]
    }
   ],
   "source": [
    "def createnewFile(filename):\n",
    "    f=open(filename,'w')\n",
    "    f.write('gitam vizag\\n')\n",
    "    f.write('python programming\\n')\n",
    "    print('successful')\n",
    "    return\n",
    "createnewFile('data.txt')"
   ]
  },
  {
   "cell_type": "code",
   "execution_count": 23,
   "metadata": {},
   "outputs": [
    {
     "name": "stdout",
     "output_type": "stream",
     "text": [
      "program completed successfully\n"
     ]
    }
   ],
   "source": [
    "#mode-a: if the file is not available, it creates the files\n",
    "#        if the file is already present with same name, it appends the data at the end of the line\n",
    "def appendMode(filename):\n",
    "    f=open(filename,'a')\n",
    "    f.write('Gitam Vizag\\n')\n",
    "    f.write('python programming')\n",
    "    print('program completed successfully')\n",
    "    return\n",
    "appendMode('data.txt')"
   ]
  },
  {
   "cell_type": "code",
   "execution_count": 24,
   "metadata": {},
   "outputs": [
    {
     "name": "stdout",
     "output_type": "stream",
     "text": [
      "This is 0 line\n",
      "This is 1 line\n",
      "This is 2 line\n",
      "This is 3 line\n",
      "This is 4 line\n",
      "This is 5 line\n",
      "This is 6 line\n",
      "This is 7 line\n",
      "This is 8 line\n",
      "This is 9 line\n",
      "Gitam Vizag\n",
      "python programming\n"
     ]
    }
   ],
   "source": [
    "# Function to read the file\n",
    "def readFile(filename):\n",
    "    f=open(filename,'r')\n",
    "    if f.mode=='r':\n",
    "        a=f.read()\n",
    "        print(a)\n",
    "    f.close()\n",
    "    return\n",
    "readFile('data.txt')"
   ]
  },
  {
   "cell_type": "code",
   "execution_count": 17,
   "metadata": {},
   "outputs": [
    {
     "name": "stdout",
     "output_type": "stream",
     "text": [
      "['python', 'programming']\n",
      "['p', 'y', 't', 'h', 'o', 'n', ' ', 'p', 'r', 'o', 'g', 'r', 'a', 'm', 'm', 'i', 'n', 'g']\n"
     ]
    }
   ],
   "source": [
    "# Split funtion converts the string into a list\n",
    "# list() function coversts the input strings into characters\n",
    "s1=\"python programming\"\n",
    "print(s1.split())\n",
    "print(list(s1))"
   ]
  },
  {
   "cell_type": "code",
   "execution_count": 12,
   "metadata": {},
   "outputs": [
    {
     "data": {
      "text/plain": [
       "44"
      ]
     },
     "execution_count": 12,
     "metadata": {},
     "output_type": "execute_result"
    }
   ],
   "source": [
    "# Analysis on the file- Word count, Char count, Digit count\n",
    "def wordCount(filename):\n",
    "    with open(filename,'r') as f:\n",
    "        if f.mode=='r':\n",
    "            a=f.read()\n",
    "            li=a.split()\n",
    "    return len(li)\n",
    "wordCount('data.txt')\n",
    "        "
   ]
  },
  {
   "cell_type": "code",
   "execution_count": 15,
   "metadata": {},
   "outputs": [
    {
     "name": "stdout",
     "output_type": "stream",
     "text": [
      "enter a word:python\n"
     ]
    },
    {
     "data": {
      "text/plain": [
       "1"
      ]
     },
     "execution_count": 15,
     "metadata": {},
     "output_type": "execute_result"
    }
   ],
   "source": [
    "#def specificWordCnt(filename,word):\n",
    "#    with open(filename,'r') as f:\n",
    "#       if f.mode=='r':\n",
    "#           a=f.read()\n",
    "#           li=a.split()\n",
    "#   return li.count(word)\n",
    "#specificWordCnt('data.txt',This)\n",
    "\n",
    "def count(filename):\n",
    "    c=0\n",
    "    f=open(filename,'r')\n",
    "    if f.mode=='r':\n",
    "        s=input('enter a word:')\n",
    "        a=f.read()\n",
    "        li=a.split()\n",
    "    for i in range(len(li)):\n",
    "        if(li[i]==s):\n",
    "            c=c+1\n",
    "    return(c)\n",
    "count('data.txt')\n",
    "        "
   ]
  },
  {
   "cell_type": "code",
   "execution_count": 16,
   "metadata": {},
   "outputs": [
    {
     "data": {
      "text/plain": [
       "181"
      ]
     },
     "execution_count": 16,
     "metadata": {},
     "output_type": "execute_result"
    }
   ],
   "source": [
    "#function to find the character count from the input file\n",
    "def charCount(filename):\n",
    "    with open(filename,'r') as f:\n",
    "        if f.mode=='r':\n",
    "            a=f.read()\n",
    "            li=list(a) # list converts the input string into a sequence of characters\n",
    "    return len(li)  #finding the length of list gives the character count\n",
    "charCount('data.txt')"
   ]
  },
  {
   "cell_type": "code",
   "execution_count": 25,
   "metadata": {},
   "outputs": [
    {
     "data": {
      "text/plain": [
       "12"
      ]
     },
     "execution_count": 25,
     "metadata": {},
     "output_type": "execute_result"
    }
   ],
   "source": [
    "def findLineCount(filename):\n",
    "    f=open(filename,'r')\n",
    "    if f.mode=='r':\n",
    "        a=f.read()\n",
    "        li=a.split('\\n')\n",
    "    return len(li)\n",
    "findLineCount('data.txt')"
   ]
  },
  {
   "cell_type": "code",
   "execution_count": 30,
   "metadata": {},
   "outputs": [
    {
     "name": "stdout",
     "output_type": "stream",
     "text": [
      "upper case count:  12\n",
      "lower case count:  115\n",
      "digits count:  10\n"
     ]
    }
   ],
   "source": [
    "# Function to find the count of upper and lower case characters from the input string\n",
    "def caseCount(filename):\n",
    "    c1=0\n",
    "    c2=0\n",
    "    c3=0\n",
    "    f=open(filename,'r')\n",
    "    if f.mode=='r':\n",
    "        a=f.read()\n",
    "        li=list(a)\n",
    "    for i in range(len(li)):\n",
    "        if ord(li[i])>=65 and ord(li[i])<=90:\n",
    "            c1=c1+1\n",
    "        elif ord(li[i])>=97 and ord(li[i])<=122:\n",
    "            c2=c2+1\n",
    "        elif ord(li[i])>=48 and ord(li[i])<=57:\n",
    "            c3=c3+1\n",
    "    print('upper case count: ',c1) #output='upper case:{0} lower case:{1} digit:{2}'.format(c1,c2,c3)\n",
    "    print('lower case count: ',c2)\n",
    "    print('digits count: ',c3)\n",
    "    return\n",
    "caseCount('data.txt')"
   ]
  },
  {
   "cell_type": "code",
   "execution_count": 1,
   "metadata": {},
   "outputs": [
    {
     "ename": "NameError",
     "evalue": "name 'contacts' is not defined",
     "output_type": "error",
     "traceback": [
      "\u001b[1;31m---------------------------------------------------------------------------\u001b[0m",
      "\u001b[1;31mNameError\u001b[0m                                 Traceback (most recent call last)",
      "\u001b[1;32m<ipython-input-1-ead65043b18d>\u001b[0m in \u001b[0;36m<module>\u001b[1;34m\u001b[0m\n\u001b[1;32m----> 1\u001b[1;33m \u001b[0mcontacts\u001b[0m\u001b[1;33m\u001b[0m\u001b[1;33m\u001b[0m\u001b[0m\n\u001b[0m",
      "\u001b[1;31mNameError\u001b[0m: name 'contacts' is not defined"
     ]
    }
   ],
   "source": [
    "\n"
   ]
  },
  {
   "cell_type": "code",
   "execution_count": null,
   "metadata": {},
   "outputs": [],
   "source": []
  }
 ],
 "metadata": {
  "kernelspec": {
   "display_name": "Python 3",
   "language": "python",
   "name": "python3"
  },
  "language_info": {
   "codemirror_mode": {
    "name": "ipython",
    "version": 3
   },
   "file_extension": ".py",
   "mimetype": "text/x-python",
   "name": "python",
   "nbconvert_exporter": "python",
   "pygments_lexer": "ipython3",
   "version": "3.7.3"
  }
 },
 "nbformat": 4,
 "nbformat_minor": 2
}
