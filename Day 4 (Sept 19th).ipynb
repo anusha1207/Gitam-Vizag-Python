{
 "cells": [
  {
   "cell_type": "markdown",
   "metadata": {},
   "source": [
    "## String Functions \n",
    "- upper()- converts the input string into upper case characters\n",
    "- lower()- converts the input string into lower case characters"
   ]
  },
  {
   "cell_type": "code",
   "execution_count": 1,
   "metadata": {},
   "outputs": [
    {
     "name": "stdout",
     "output_type": "stream",
     "text": [
      "PYTHON\n",
      "python\n"
     ]
    }
   ],
   "source": [
    "s1='pYtHon'\n",
    "print(s1.upper())\n",
    "print(s1.lower())"
   ]
  },
  {
   "cell_type": "markdown",
   "metadata": {},
   "source": [
    "### String Boolean Function\n",
    "- True or False\n",
    "- islower()-True if all the characters in the string are in lower case\n",
    "- isupper()- True if all the characters in the string are in upper case\n",
    "- istitle()- True if the string is in title case\n",
    "- isnumeric()- True if all the characters in the string are numerics\n",
    "- isalpha()- True if the string has only alphabets\n",
    "- isspace()- True if the string is a space"
   ]
  },
  {
   "cell_type": "code",
   "execution_count": 2,
   "metadata": {},
   "outputs": [
    {
     "name": "stdout",
     "output_type": "stream",
     "text": [
      "True\n",
      "False\n"
     ]
    }
   ],
   "source": [
    "s1=\"python\"\n",
    "print(s1.islower())\n",
    "print(s1.isupper())"
   ]
  },
  {
   "cell_type": "code",
   "execution_count": 7,
   "metadata": {},
   "outputs": [
    {
     "name": "stdout",
     "output_type": "stream",
     "text": [
      "True\n"
     ]
    }
   ],
   "source": [
    "s1=\"Python Programming\"\n",
    "print(s1.istitle())"
   ]
  },
  {
   "cell_type": "code",
   "execution_count": 6,
   "metadata": {},
   "outputs": [
    {
     "name": "stdout",
     "output_type": "stream",
     "text": [
      "True\n",
      "True\n",
      "True\n"
     ]
    }
   ],
   "source": [
    "s1=\"12345\"\n",
    "s2=\"programming\"\n",
    "s3=\" \"\n",
    "print(s1.isnumeric())\n",
    "print(s2.isalpha())\n",
    "print(s3.isspace())\n"
   ]
  },
  {
   "cell_type": "markdown",
   "metadata": {},
   "source": [
    "## String Methods\n",
    "- split() - returns the list of strings separated by a whitespace\n",
    "- replace() - used to replace a characters with some other character/word\n",
    "- join() - used to concatenate two strings\n"
   ]
  },
  {
   "cell_type": "code",
   "execution_count": 9,
   "metadata": {},
   "outputs": [
    {
     "name": "stdout",
     "output_type": "stream",
     "text": [
      "['Python', 'Programming', 'made', 'easy']\n",
      "['Python Progr', 'mming m', 'de e', 'sy']\n"
     ]
    }
   ],
   "source": [
    "s1=\"Python Programming made easy\"\n",
    "print(s1.split())\n",
    "print(s1.split('a'))"
   ]
  },
  {
   "cell_type": "code",
   "execution_count": 10,
   "metadata": {},
   "outputs": [
    {
     "name": "stdout",
     "output_type": "stream",
     "text": [
      "Python#programming\n"
     ]
    }
   ],
   "source": [
    "s1=\"Python programming\"\n",
    "print(s1.replace(' ','#'))"
   ]
  },
  {
   "cell_type": "code",
   "execution_count": 15,
   "metadata": {},
   "outputs": [
    {
     "name": "stdout",
     "output_type": "stream",
     "text": [
      "P!y!t!h!o!n! !P!r!o!g!r!a!m!m!i!n!g\n"
     ]
    }
   ],
   "source": [
    "s=\"Python Programming\"\n",
    "print('!'.join(s))"
   ]
  },
  {
   "cell_type": "markdown",
   "metadata": {},
   "source": [
    "## String Formatting\n",
    "- Class Version\n",
    "- Current Version Python"
   ]
  },
  {
   "cell_type": "code",
   "execution_count": 16,
   "metadata": {},
   "outputs": [
    {
     "name": "stdout",
     "output_type": "stream",
     "text": [
      "Python Programming\n"
     ]
    }
   ],
   "source": [
    "#class version(c or c++)\n",
    "li= [\"Python\",\"Programming\"]\n",
    "print('%s %s' %(li[0],li[1]))"
   ]
  },
  {
   "cell_type": "code",
   "execution_count": 17,
   "metadata": {},
   "outputs": [
    {
     "name": "stdout",
     "output_type": "stream",
     "text": [
      "2 3 4 5\n"
     ]
    }
   ],
   "source": [
    "li=[2,3,4,5]\n",
    "print('%d %d %d %d' %(li[0],li[1],li[2],li[3]))"
   ]
  },
  {
   "cell_type": "code",
   "execution_count": 20,
   "metadata": {},
   "outputs": [
    {
     "name": "stdout",
     "output_type": "stream",
     "text": [
      "first item: Python \n",
      "second item: Programming\n",
      "1 2 3 4\n"
     ]
    }
   ],
   "source": [
    "# .format\n",
    "li=[\"Python\",\"Programming\"]\n",
    "l1=[1,2,3,4]\n",
    "print('first item: {0} \\nsecond item: {1}' .format(li[0],li[1]))\n",
    "print('{0} {1} {2} {3}'.format(l1[0],l1[1],l1[2],l1[3]))"
   ]
  },
  {
   "cell_type": "markdown",
   "metadata": {},
   "source": [
    "## Data Structures\n",
    "- List\n",
    "- Tupple\n",
    "- Dictionaries\n",
    "- Sets"
   ]
  },
  {
   "cell_type": "markdown",
   "metadata": {},
   "source": [
    "### Dictionaries\n",
    "- It works on concept of unique data\n",
    "- Key,value is the unique identifier a value\n",
    "- Each key is separated from value colon(:)\n",
    "- Each key and Value is separated by Comma(,)\n",
    "- Ditionaries are enclosed with curly brackets({})"
   ]
  },
  {
   "cell_type": "code",
   "execution_count": 22,
   "metadata": {},
   "outputs": [
    {
     "name": "stdout",
     "output_type": "stream",
     "text": [
      "{'Name': 'Gitam', 'EmailID': 'gitamvizag@gmail.com', 'Address': 'Vizag'}\n"
     ]
    }
   ],
   "source": [
    "d1={\"Name\":\"Gitam\",\"EmailID\":\"gitamvizag@gmail.com\",\"Address\":\"Vizag\"}\n",
    "print(d1)"
   ]
  },
  {
   "cell_type": "code",
   "execution_count": 23,
   "metadata": {},
   "outputs": [
    {
     "data": {
      "text/plain": [
       "'gitamvizag@gmail.com'"
      ]
     },
     "execution_count": 23,
     "metadata": {},
     "output_type": "execute_result"
    }
   ],
   "source": [
    "d1[\"EmailID\"] #Access specific key value"
   ]
  },
  {
   "cell_type": "code",
   "execution_count": 26,
   "metadata": {},
   "outputs": [
    {
     "data": {
      "text/plain": [
       "'gitam@gmail.com'"
      ]
     },
     "execution_count": 26,
     "metadata": {},
     "output_type": "execute_result"
    }
   ],
   "source": [
    "d1[\"EmailID\"]=\"gitam@gmail.com\" #Update the value using key\n",
    "d1[\"EmailID\"]"
   ]
  },
  {
   "cell_type": "code",
   "execution_count": 27,
   "metadata": {},
   "outputs": [
    {
     "data": {
      "text/plain": [
       "dict_keys(['Name', 'EmailID', 'Address'])"
      ]
     },
     "execution_count": 27,
     "metadata": {},
     "output_type": "execute_result"
    }
   ],
   "source": [
    "d1.keys() #All the keys of dict object"
   ]
  },
  {
   "cell_type": "code",
   "execution_count": 28,
   "metadata": {},
   "outputs": [
    {
     "data": {
      "text/plain": [
       "dict_values(['Gitam', 'gitam@gmail.com', 'Vizag'])"
      ]
     },
     "execution_count": 28,
     "metadata": {},
     "output_type": "execute_result"
    }
   ],
   "source": [
    "d1.values() #All the values of dict object"
   ]
  },
  {
   "cell_type": "code",
   "execution_count": 34,
   "metadata": {},
   "outputs": [
    {
     "ename": "KeyError",
     "evalue": "'EmailID'",
     "output_type": "error",
     "traceback": [
      "\u001b[1;31m---------------------------------------------------------------------------\u001b[0m",
      "\u001b[1;31mKeyError\u001b[0m                                  Traceback (most recent call last)",
      "\u001b[1;32m<ipython-input-34-d6284e44d033>\u001b[0m in \u001b[0;36m<module>\u001b[1;34m\u001b[0m\n\u001b[1;32m----> 1\u001b[1;33m \u001b[1;32mdel\u001b[0m \u001b[0md1\u001b[0m\u001b[1;33m[\u001b[0m\u001b[1;34m\"EmailID\"\u001b[0m\u001b[1;33m]\u001b[0m \u001b[1;31m#only deletes one key and value\u001b[0m\u001b[1;33m\u001b[0m\u001b[1;33m\u001b[0m\u001b[0m\n\u001b[0m",
      "\u001b[1;31mKeyError\u001b[0m: 'EmailID'"
     ]
    }
   ],
   "source": [
    "del d1[\"EmailID\"] #only deletes one key and value"
   ]
  },
  {
   "cell_type": "code",
   "execution_count": 33,
   "metadata": {},
   "outputs": [
    {
     "name": "stdout",
     "output_type": "stream",
     "text": [
      "{'Name': 'Gitam', 'Address': 'Vizag'}\n"
     ]
    }
   ],
   "source": [
    "print(d1)"
   ]
  },
  {
   "cell_type": "code",
   "execution_count": 35,
   "metadata": {},
   "outputs": [
    {
     "data": {
      "text/plain": [
       "{'Name': 'Gitam', 'Address': 'Vizag'}"
      ]
     },
     "execution_count": 35,
     "metadata": {},
     "output_type": "execute_result"
    }
   ],
   "source": [
    "d1"
   ]
  },
  {
   "cell_type": "markdown",
   "metadata": {},
   "source": [
    "## Contact Application\n",
    "- Add contact details\n",
    "- Search a contact\n",
    "- List all the contacts(merge/import)\n",
    "- Modify or Update contact details\n",
    "- Delete the contact details"
   ]
  },
  {
   "cell_type": "code",
   "execution_count": 55,
   "metadata": {},
   "outputs": [
    {
     "name": "stdout",
     "output_type": "stream",
     "text": [
      "contact details added successfully\n",
      "contact details added successfully\n",
      "contact already exists\n",
      "contact details added successfully\n"
     ]
    }
   ],
   "source": [
    "contacts={} #empty dictionary object\n",
    "# Function to add contact details\n",
    "def addContact(name,number):\n",
    "    if name not in contacts:\n",
    "        contacts[name]=number\n",
    "        print('contact details added successfully')\n",
    "    else:\n",
    "        print('contact already exists')\n",
    "    return\n",
    "addContact('Anusha','9823834921')\n",
    "addContact('Nikita','9832556733')\n",
    "addContact('Anusha','9823834921')\n",
    "addContact('A','9374752475')"
   ]
  },
  {
   "cell_type": "code",
   "execution_count": 48,
   "metadata": {},
   "outputs": [
    {
     "name": "stdout",
     "output_type": "stream",
     "text": [
      "Anusha  :  9823834921\n",
      "Srujitha : contact does not exist\n"
     ]
    }
   ],
   "source": [
    "def searchContact(name):\n",
    "    if name in contacts:\n",
    "        print(name,\" : \",contacts[name])\n",
    "    else:\n",
    "        print('%s : contact does not exist' %name)\n",
    "    return\n",
    "searchContact('Anusha')\n",
    "searchContact('Srujitha')\n"
   ]
  },
  {
   "cell_type": "code",
   "execution_count": 49,
   "metadata": {},
   "outputs": [
    {
     "name": "stdout",
     "output_type": "stream",
     "text": [
      "2 contacts are added\n"
     ]
    }
   ],
   "source": [
    "#import new contact details\n",
    "# Merge the new details with those of the old ones\n",
    "def importContacts(new):\n",
    "    contacts.update(new)\n",
    "    print(len(new.keys()),'contacts are added')\n",
    "    return\n",
    "new={'Srujitha':'9827461267','Yelek':'8274612795'}\n",
    "importContacts(new)"
   ]
  },
  {
   "cell_type": "code",
   "execution_count": 51,
   "metadata": {},
   "outputs": [
    {
     "name": "stdout",
     "output_type": "stream",
     "text": [
      "Anusha number updated successfully\n",
      "Srujitha number updated successfully\n",
      "ABC does not exist\n"
     ]
    }
   ],
   "source": [
    "def modify(name,number):\n",
    "    if name in contacts:\n",
    "        contacts[name]=number\n",
    "        print(name,'number updated successfully')\n",
    "    else:\n",
    "        print(name,'does not exist')\n",
    "    return\n",
    "modify('Anusha','9274589120')\n",
    "modify('Srujitha','8923471854')\n",
    "modify('ABC','7812304639')\n"
   ]
  },
  {
   "cell_type": "code",
   "execution_count": 54,
   "metadata": {},
   "outputs": [
    {
     "name": "stdout",
     "output_type": "stream",
     "text": [
      "Anusha -deleted the contact\n",
      "xyz -does not exist\n"
     ]
    }
   ],
   "source": [
    "def delContact(name):\n",
    "    if name in contacts:\n",
    "        del contacts[name]\n",
    "        print(name,'-deleted the contact')\n",
    "    else:\n",
    "        print(name,'-does not exist')\n",
    "delContact('Anusha')\n",
    "delContact('xyz')\n",
    "        "
   ]
  },
  {
   "cell_type": "code",
   "execution_count": 56,
   "metadata": {},
   "outputs": [
    {
     "name": "stdout",
     "output_type": "stream",
     "text": [
      "{'Anusha': '9823834921', 'Nikita': '9832556733', 'A': '9374752475'}\n"
     ]
    }
   ],
   "source": [
    "print(contacts)"
   ]
  },
  {
   "cell_type": "code",
   "execution_count": 57,
   "metadata": {},
   "outputs": [
    {
     "data": {
      "text/plain": [
       "{'Anusha': '9823834921', 'Nikita': '9832556733', 'A': '9374752475'}"
      ]
     },
     "execution_count": 57,
     "metadata": {},
     "output_type": "execute_result"
    }
   ],
   "source": [
    "contacts\n"
   ]
  },
  {
   "cell_type": "markdown",
   "metadata": {},
   "source": [
    "### Tuples\n",
    "- Tuples are enclosed within paranthesis\n",
    "\n",
    "#### Differences between a tuple and a list\n",
    "- Lists are mutable/modifiable whereas lists are immutable\n",
    "- Read and write operations can be perfomed on lists whereas in tuples only read operation can be       performed\n",
    "\n",
    "\n"
   ]
  },
  {
   "cell_type": "code",
   "execution_count": 58,
   "metadata": {},
   "outputs": [
    {
     "name": "stdout",
     "output_type": "stream",
     "text": [
      "(1, 2, 3, 4, 5)\n"
     ]
    }
   ],
   "source": [
    "t1=(1,2,3,4,5)\n",
    "print(t1)"
   ]
  },
  {
   "cell_type": "code",
   "execution_count": 60,
   "metadata": {},
   "outputs": [
    {
     "name": "stdout",
     "output_type": "stream",
     "text": [
      "(5, 4, 3, 2, 1)\n"
     ]
    }
   ],
   "source": [
    "print(t1[4::-1])"
   ]
  },
  {
   "cell_type": "markdown",
   "metadata": {},
   "source": [
    "### Standard Libraries\n",
    "- Regular Expressions\n",
    "   - To validate the Indian mobile number\n",
    "   - To validate EmailID\n",
    "   - To validate the username\n",
    "   - To validate the password\n",
    "- Understanding the regular expressions\n",
    "   - [0-9] -  Any digit matching\n",
    "   - [a-z] - Any lower case matching\n",
    "   - [A-Z] - Any upper case matching\n",
    "   - Cap symbol is used to represent the start of regular expressions\n",
    "   - Dollar symbol is used to represent the end of a regular expression"
   ]
  },
  {
   "cell_type": "code",
   "execution_count": 61,
   "metadata": {},
   "outputs": [
    {
     "name": "stdout",
     "output_type": "stream",
     "text": [
      "True\n",
      "False\n"
     ]
    }
   ],
   "source": [
    "#function to test if a number is a two-digit number or not\n",
    "import re\n",
    "def twoDigit(n):\n",
    "    pattern='^[0-9]{2}$'\n",
    "    n=str(n)\n",
    "    if re.match(pattern,n):\n",
    "        return True\n",
    "    return False\n",
    "print(twoDigit(92))\n",
    "print(twoDigit(456))"
   ]
  },
  {
   "cell_type": "code",
   "execution_count": 64,
   "metadata": {
    "scrolled": true
   },
   "outputs": [
    {
     "name": "stdout",
     "output_type": "stream",
     "text": [
      "True\n",
      "False\n",
      "False\n"
     ]
    }
   ],
   "source": [
    "# Regular expression for username\n",
    "# Username contains both uppercase and lowercase characters\n",
    "# length- Min 5 Max 12\n",
    "def validateUsername(s):\n",
    "    pattern='^[a-zA-Z]{5,12}$'\n",
    "    if re.match(pattern,s):\n",
    "        return True\n",
    "    return False\n",
    "print(validateUsername('Anusha'))\n",
    "print(validateUsername('Anu'))\n",
    "print(validateUsername('GitamVizagPythonProgramming'))\n",
    "        "
   ]
  },
  {
   "cell_type": "markdown",
   "metadata": {},
   "source": [
    "## Regular Expression \n",
    "- Regular Expression for Roll number\n",
    "   - Example: 1521!0501 #Valid\n",
    "   - Example: 1621A0574 #Invalid\n",
    "- Regular Expression for password\n",
    "   - Parameters- Length Min 6 Max 10\n",
    "   - Accept lowercase, uppercase, digits and special characters(@,!,#)\n",
    "   - Example: Pass123@21 #Valid\n",
    "   - Example: pass123    #Invalid"
   ]
  },
  {
   "cell_type": "markdown",
   "metadata": {},
   "source": [
    "### Regular Expression for Indian mobile number\n",
    "- 10 Digit number:\n",
    "    - First number starts from [6-9]\n",
    "    - Remaining numbers are in between [0-9]\n",
    "        -Example: 9834345618 #True\n",
    "        -Example: 5582638182 #False\n",
    "- 11 Digit number:\n",
    "    - First number should be 0\n",
    "    - Second number can be [6-9]\n",
    "    - Rest of the 9 numbers are in between [0-9]\n",
    "        -Example: 09274621099 #True\n",
    "        -Example: 98612381230 #False\n",
    "- 13 Digit Number:\n",
    "    - First number should be +\n",
    "    - Second number should be 9\n",
    "    - Third number should be 1\n",
    "    - Fourth number should lie between [6-9]\n",
    "    - The rest of the numbers lie between [0-9]\n",
    "        -Example: +917248561239 #True\n",
    "        -Example: +891727450978 #False"
   ]
  },
  {
   "cell_type": "code",
   "execution_count": 3,
   "metadata": {},
   "outputs": [
    {
     "name": "stdout",
     "output_type": "stream",
     "text": [
      "True\n",
      "True\n",
      "True\n",
      "False\n"
     ]
    }
   ],
   "source": [
    "import re\n",
    "def IndNum(n):\n",
    "    pattern='^[6-9][0-9]{9}$|^[0][6-9][0-9]{9}$|^[+][9][1][6-9][0-9]{9}$'\n",
    "    n=str(n)\n",
    "    if re.match(pattern,n):\n",
    "        return True\n",
    "    return False\n",
    "print(IndNum('+919866712384'))\n",
    "print(IndNum('09866712374'))\n",
    "print(IndNum('7846219908'))\n",
    "print(IndNum('5582945612'))\n",
    "    "
   ]
  },
  {
   "cell_type": "markdown",
   "metadata": {},
   "source": [
    "### Validate the EmailID\n",
    "- Example: Username@domainname.extension\n",
    "- Username:\n",
    "  - length of string will be [6-15]\n",
    "  - No special chafracters except underscore(_) and (.)\n",
    "  - Username should not begin with an underscore(_)\n",
    "  - Characters set comprises digits,lowercase,uppercase\n",
    "     - Example : Anusha_12\n",
    "- DomainName:\n",
    "  - Length of string will be [3-18]\n",
    "  - no specials characters\n",
    "  - Character set comprises digits,lowercase,uppercase\n",
    "     - Example: gmail,hotmail,ymail,rediff,..\n",
    "- Extensions:\n",
    "  - Length of string will be [2-4]\n",
    "  - No special characters allowed\n",
    "  - Character set comprises lowercase characters\n",
    "     - Example: com,us,uk,in,eu,..."
   ]
  },
  {
   "cell_type": "code",
   "execution_count": 15,
   "metadata": {},
   "outputs": [
    {
     "name": "stdout",
     "output_type": "stream",
     "text": [
      "True\n",
      "False\n"
     ]
    }
   ],
   "source": [
    "import re\n",
    "def validMail(s):\n",
    "    pattern='^[0-9a-zA-Z][0-9a-zA-Z_.]{5,14}[@][0-9a-z]{3,18}[.][a-z]{2,4}$'\n",
    "    if re.match(pattern,s):\n",
    "        return True\n",
    "    return False\n",
    "print(validMail('Anusha_12@gmail.com'))\n",
    "print(validMail('_anusha1999@gu.com'))"
   ]
  },
  {
   "cell_type": "markdown",
   "metadata": {},
   "source": [
    "## Python Graphics\n",
    "- lib- Turtle "
   ]
  },
  {
   "cell_type": "markdown",
   "metadata": {},
   "source": [
    "### Package, Module and Sub Package\n",
    "#### Package\n",
    "    - A collection of modules(inside a single python file .py)\n",
    "#### Module\n",
    "    - A single Python file contains a group of functions\n",
    "    - Package -> Sub-package -> Modules -> Functions ->"
   ]
  },
  {
   "cell_type": "code",
   "execution_count": 16,
   "metadata": {},
   "outputs": [
    {
     "data": {
      "text/plain": [
       "123"
      ]
     },
     "execution_count": 16,
     "metadata": {},
     "output_type": "execute_result"
    }
   ],
   "source": [
    "import math #imports all the functions into python program\n",
    "math.floor(123.456)"
   ]
  },
  {
   "cell_type": "code",
   "execution_count": 17,
   "metadata": {},
   "outputs": [
    {
     "data": {
      "text/plain": [
       "124"
      ]
     },
     "execution_count": 17,
     "metadata": {},
     "output_type": "execute_result"
    }
   ],
   "source": [
    "math.ceil(123.456)"
   ]
  },
  {
   "cell_type": "code",
   "execution_count": 18,
   "metadata": {},
   "outputs": [
    {
     "data": {
      "text/plain": [
       "3628800"
      ]
     },
     "execution_count": 18,
     "metadata": {},
     "output_type": "execute_result"
    }
   ],
   "source": [
    "from math import factorial as fact #imports only specific function- fact is alias name\n",
    "fact(10)"
   ]
  },
  {
   "cell_type": "code",
   "execution_count": 19,
   "metadata": {},
   "outputs": [
    {
     "data": {
      "text/plain": [
       "5"
      ]
     },
     "execution_count": 19,
     "metadata": {},
     "output_type": "execute_result"
    }
   ],
   "source": [
    "from math import gcd as gcd\n",
    "gcd(10,15)\n"
   ]
  },
  {
   "cell_type": "code",
   "execution_count": 21,
   "metadata": {},
   "outputs": [
    {
     "name": "stdout",
     "output_type": "stream",
     "text": [
      "72 99 20 0 41 7 51 75 94 32 "
     ]
    }
   ],
   "source": [
    "#import a random package\n",
    "import random\n",
    "# Function to generate N numbers in a given range\n",
    "def generateRandNum(n,lb,ub):\n",
    "    for i in range(0,n):\n",
    "        print(random.randint(lb,ub),end=' ')\n",
    "    return\n",
    "generateRandNum(10,0,100)\n",
    "        "
   ]
  },
  {
   "cell_type": "code",
   "execution_count": null,
   "metadata": {},
   "outputs": [],
   "source": []
  }
 ],
 "metadata": {
  "kernelspec": {
   "display_name": "Python 3",
   "language": "python",
   "name": "python3"
  },
  "language_info": {
   "codemirror_mode": {
    "name": "ipython",
    "version": 3
   },
   "file_extension": ".py",
   "mimetype": "text/x-python",
   "name": "python",
   "nbconvert_exporter": "python",
   "pygments_lexer": "ipython3",
   "version": "3.7.3"
  }
 },
 "nbformat": 4,
 "nbformat_minor": 2
}
