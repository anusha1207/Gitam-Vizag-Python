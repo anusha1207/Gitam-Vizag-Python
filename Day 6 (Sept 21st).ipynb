{
 "cells": [
  {
   "cell_type": "markdown",
   "metadata": {},
   "source": [
    "## Pandas and Matplotlib\n"
   ]
  },
  {
   "cell_type": "code",
   "execution_count": 4,
   "metadata": {},
   "outputs": [],
   "source": [
    "import pandas as pd\n",
    "filePath='RegularSeasonCompactResults.csv'\n",
    "def readCsvData(filePath):\n",
    "    return pd.read_csv(filePath)\n",
    "df=readCsvData(filePath)"
   ]
  },
  {
   "cell_type": "code",
   "execution_count": 19,
   "metadata": {},
   "outputs": [
    {
     "name": "stdout",
     "output_type": "stream",
     "text": [
      "        Season  Daynum  Wteam  Wscore  Lteam  Lscore Wloc  Numot\n",
      "0       1985.0    20.0   1228      81   1328      64    N      0\n",
      "1          NaN    25.0   1106      77   1354      70    H      0\n",
      "2       1985.0    25.0   1112      63   1223      56    H      0\n",
      "3       1985.0     NaN   1165      70   1432      54    H      0\n",
      "4          NaN    25.0   1192      86   1447      74    H      0\n",
      "5       1985.0    25.0   1218      79   1337      78    H      0\n",
      "6       1985.0    25.0   1228      64   1226      44    N      0\n",
      "7       1985.0    25.0   1242      58   1268      56    N      0\n",
      "8       1985.0    25.0   1260      98   1133      80    H      0\n",
      "9       1985.0    25.0   1305      97   1424      89    H      0\n",
      "10      1985.0    25.0   1307     103   1288       0    H      0\n",
      "11      1985.0    25.0   1344      75   1438      71    N      0\n",
      "12      1985.0    25.0   1374      91   1411      72    H      0\n",
      "13      1985.0    25.0   1412      70   1397      65    N      0\n",
      "14      1985.0    25.0   1417      87   1225      58    H      0\n",
      "15      1985.0    26.0   1116      65   1368      62    H      0\n",
      "16      1985.0    26.0   1120      92   1391      50    H      0\n",
      "17      1985.0    26.0   1135      65   1306      60    A      0\n",
      "18      1985.0    26.0   1143      58   1388      53    H      0\n",
      "19      1985.0    26.0   1153      50   1184      48    H      0\n",
      "20      1985.0    26.0   1165      47   1159      40    A      0\n",
      "21      1985.0    26.0   1171      55   1216      52    H      0\n",
      "22      1985.0    26.0   1173      76   1134      56    H      0\n",
      "23      1985.0    26.0   1177      59   1296      58    H      0\n",
      "24      1985.0    26.0   1193      79   1265      76    A      0\n",
      "25      1985.0    26.0   1196     106   1416      55    H      0\n",
      "26      1985.0    26.0   1206      95   1137      77    H      0\n",
      "27      1985.0    26.0   1210      79   1149      66    H      0\n",
      "28      1985.0    26.0   1211      64   1102      59    A      0\n",
      "29      1985.0    26.0   1234      76   1114      47    H      0\n",
      "...        ...     ...    ...     ...    ...     ...  ...    ...\n",
      "145259  2016.0   130.0   1452      69   1328      67    N      0\n",
      "145260  2016.0   131.0   1114      72   1418      65    N      0\n",
      "145261  2016.0   131.0   1138      64   1103      61    N      0\n",
      "145262  2016.0   131.0   1163      77   1396      62    N      0\n",
      "145263  2016.0   131.0   1167      57   1308      54    N      0\n",
      "145264  2016.0   131.0   1201      68   1361      63    N      0\n",
      "145265  2016.0   131.0   1214      81   1354      69    N      0\n",
      "145266  2016.0   131.0   1218      64   1253      60    N      0\n",
      "145267  2016.0   131.0   1242      81   1452      71    N      0\n",
      "145268  2016.0   131.0   1246      93   1208      80    N      0\n",
      "145269  2016.0   131.0   1272      74   1408      54    N      0\n",
      "145270  2016.0   131.0   1277      64   1268      61    N      0\n",
      "145271  2016.0   131.0   1292      55   1330      53    N      0\n",
      "145272  2016.0   131.0   1314      61   1438      57    N      0\n",
      "145273  2016.0   131.0   1332      88   1428      57    N      0\n",
      "145274  2016.0   131.0   1345      76   1276      59    N      0\n",
      "145275  2016.0   131.0   1371      69   1437      67    N      0\n",
      "145276  2016.0   131.0   1372      82   1394      60    N      0\n",
      "145277  2016.0   131.0   1380      54   1238      53    N      0\n",
      "145278  2016.0   131.0   1386      82   1173      79    N      0\n",
      "145279  2016.0   131.0   1392      80   1436      74    H      0\n",
      "145280  2016.0   131.0   1401      71   1261      38    N      0\n",
      "145281  2016.0   131.0   1419      82   1426      71    N      0\n",
      "145282  2016.0   131.0   1433      76   1172      54    N      0\n",
      "145283  2016.0   131.0   1451      62   1285      59    N      0\n",
      "145284  2016.0   132.0   1114      70   1419      50    N      0\n",
      "145285  2016.0   132.0   1163      72   1272      58    N      0\n",
      "145286  2016.0   132.0   1246      82   1401      77    N      1\n",
      "145287  2016.0   132.0   1277      66   1345      62    N      0\n",
      "145288  2016.0   132.0   1386      87   1433      74    N      0\n",
      "\n",
      "[145289 rows x 8 columns]\n"
     ]
    }
   ],
   "source": [
    "print(df)"
   ]
  },
  {
   "cell_type": "markdown",
   "metadata": {},
   "source": [
    "### Group by"
   ]
  },
  {
   "cell_type": "code",
   "execution_count": 25,
   "metadata": {},
   "outputs": [
    {
     "data": {
      "text/plain": [
       "['Season', 'Daynum', 'Wteam', 'Wscore', 'Lteam', 'Lscore', 'Wloc', 'Numot']"
      ]
     },
     "execution_count": 25,
     "metadata": {},
     "output_type": "execute_result"
    }
   ],
   "source": [
    "df.columns.tolist() #displays the columns as a list"
   ]
  },
  {
   "cell_type": "code",
   "execution_count": 12,
   "metadata": {},
   "outputs": [
    {
     "data": {
      "text/plain": [
       "Wteam\n",
       "1101    78.111111\n",
       "1102    69.893204\n",
       "1103    75.839768\n",
       "1104    75.825944\n",
       "1105    74.960894\n",
       "Name: Wscore, dtype: float64"
      ]
     },
     "execution_count": 12,
     "metadata": {},
     "output_type": "execute_result"
    }
   ],
   "source": [
    "df.groupby('Wteam')['Wscore'].mean().head() #finding the mean row-wise"
   ]
  },
  {
   "cell_type": "code",
   "execution_count": 6,
   "metadata": {},
   "outputs": [
    {
     "data": {
      "text/plain": [
       "Wteam\n",
       "1460    75.531469\n",
       "1461    75.170082\n",
       "1462    79.906021\n",
       "1463    71.720102\n",
       "1464    73.926056\n",
       "Name: Wscore, dtype: float64"
      ]
     },
     "execution_count": 6,
     "metadata": {},
     "output_type": "execute_result"
    }
   ],
   "source": [
    "df.groupby('Wteam')['Wscore'].mean().tail() #finding the mean row-wise"
   ]
  },
  {
   "cell_type": "code",
   "execution_count": null,
   "metadata": {},
   "outputs": [],
   "source": [
    "#'Where' clause to select statement\n",
    "# Group by clause\n"
   ]
  },
  {
   "cell_type": "markdown",
   "metadata": {},
   "source": [
    "### Data Cleaning\n",
    "- Whenever we have a lot of missing record values in the given dataset 'isnull()' can be used.\n",
    "- isnull() will notify any missing values in the dataframe."
   ]
  },
  {
   "cell_type": "code",
   "execution_count": 5,
   "metadata": {},
   "outputs": [
    {
     "data": {
      "text/plain": [
       "Season    2\n",
       "Daynum    1\n",
       "Wteam     0\n",
       "Wscore    0\n",
       "Lteam     0\n",
       "Lscore    0\n",
       "Wloc      0\n",
       "Numot     0\n",
       "dtype: int64"
      ]
     },
     "execution_count": 5,
     "metadata": {},
     "output_type": "execute_result"
    }
   ],
   "source": [
    "#entire data set\n",
    "df.isnull().sum() #displays the total no. of null values in all the columns. \n",
    "# Since there are  no null values in any of the columns, we get all zeroes"
   ]
  },
  {
   "cell_type": "code",
   "execution_count": 6,
   "metadata": {},
   "outputs": [
    {
     "data": {
      "text/plain": [
       "2"
      ]
     },
     "execution_count": 6,
     "metadata": {},
     "output_type": "execute_result"
    }
   ],
   "source": [
    "df['Season'].isnull().sum() \n",
    "#checks only the specified column to display the no. of null values in it"
   ]
  },
  {
   "cell_type": "markdown",
   "metadata": {},
   "source": [
    "### Functions used for null values:\n",
    "- dropna() : This function allows us to drop all or some rows that have missing values.\n",
    "- fillna() : This function allows us to replace the rows that have missing values with the values that we want to pass"
   ]
  },
  {
   "cell_type": "code",
   "execution_count": 8,
   "metadata": {},
   "outputs": [
    {
     "data": {
      "text/plain": [
       "145289"
      ]
     },
     "execution_count": 8,
     "metadata": {},
     "output_type": "execute_result"
    }
   ],
   "source": [
    "len(df)"
   ]
  },
  {
   "cell_type": "code",
   "execution_count": 16,
   "metadata": {},
   "outputs": [],
   "source": [
    "# Dropping rows with 1 null value\n",
    "new_df=df.dropna(axis=0,how='any')"
   ]
  },
  {
   "cell_type": "code",
   "execution_count": 18,
   "metadata": {},
   "outputs": [
    {
     "data": {
      "text/plain": [
       "145286"
      ]
     },
     "execution_count": 18,
     "metadata": {},
     "output_type": "execute_result"
    }
   ],
   "source": [
    "len(new_df)"
   ]
  },
  {
   "cell_type": "code",
   "execution_count": 17,
   "metadata": {},
   "outputs": [
    {
     "name": "stdout",
     "output_type": "stream",
     "text": [
      "        Season  Daynum  Wteam  Wscore  Lteam  Lscore Wloc  Numot\n",
      "0       1985.0    20.0   1228      81   1328      64    N      0\n",
      "2       1985.0    25.0   1112      63   1223      56    H      0\n",
      "5       1985.0    25.0   1218      79   1337      78    H      0\n",
      "6       1985.0    25.0   1228      64   1226      44    N      0\n",
      "7       1985.0    25.0   1242      58   1268      56    N      0\n",
      "8       1985.0    25.0   1260      98   1133      80    H      0\n",
      "9       1985.0    25.0   1305      97   1424      89    H      0\n",
      "10      1985.0    25.0   1307     103   1288       0    H      0\n",
      "11      1985.0    25.0   1344      75   1438      71    N      0\n",
      "12      1985.0    25.0   1374      91   1411      72    H      0\n",
      "13      1985.0    25.0   1412      70   1397      65    N      0\n",
      "14      1985.0    25.0   1417      87   1225      58    H      0\n",
      "15      1985.0    26.0   1116      65   1368      62    H      0\n",
      "16      1985.0    26.0   1120      92   1391      50    H      0\n",
      "17      1985.0    26.0   1135      65   1306      60    A      0\n",
      "18      1985.0    26.0   1143      58   1388      53    H      0\n",
      "19      1985.0    26.0   1153      50   1184      48    H      0\n",
      "20      1985.0    26.0   1165      47   1159      40    A      0\n",
      "21      1985.0    26.0   1171      55   1216      52    H      0\n",
      "22      1985.0    26.0   1173      76   1134      56    H      0\n",
      "23      1985.0    26.0   1177      59   1296      58    H      0\n",
      "24      1985.0    26.0   1193      79   1265      76    A      0\n",
      "25      1985.0    26.0   1196     106   1416      55    H      0\n",
      "26      1985.0    26.0   1206      95   1137      77    H      0\n",
      "27      1985.0    26.0   1210      79   1149      66    H      0\n",
      "28      1985.0    26.0   1211      64   1102      59    A      0\n",
      "29      1985.0    26.0   1234      76   1114      47    H      0\n",
      "30      1985.0    26.0   1242      66   1332      49    N      0\n",
      "31      1985.0    26.0   1243      72   1317      50    H      0\n",
      "32      1985.0    26.0   1257      75   1231      64    A      0\n",
      "...        ...     ...    ...     ...    ...     ...  ...    ...\n",
      "145259  2016.0   130.0   1452      69   1328      67    N      0\n",
      "145260  2016.0   131.0   1114      72   1418      65    N      0\n",
      "145261  2016.0   131.0   1138      64   1103      61    N      0\n",
      "145262  2016.0   131.0   1163      77   1396      62    N      0\n",
      "145263  2016.0   131.0   1167      57   1308      54    N      0\n",
      "145264  2016.0   131.0   1201      68   1361      63    N      0\n",
      "145265  2016.0   131.0   1214      81   1354      69    N      0\n",
      "145266  2016.0   131.0   1218      64   1253      60    N      0\n",
      "145267  2016.0   131.0   1242      81   1452      71    N      0\n",
      "145268  2016.0   131.0   1246      93   1208      80    N      0\n",
      "145269  2016.0   131.0   1272      74   1408      54    N      0\n",
      "145270  2016.0   131.0   1277      64   1268      61    N      0\n",
      "145271  2016.0   131.0   1292      55   1330      53    N      0\n",
      "145272  2016.0   131.0   1314      61   1438      57    N      0\n",
      "145273  2016.0   131.0   1332      88   1428      57    N      0\n",
      "145274  2016.0   131.0   1345      76   1276      59    N      0\n",
      "145275  2016.0   131.0   1371      69   1437      67    N      0\n",
      "145276  2016.0   131.0   1372      82   1394      60    N      0\n",
      "145277  2016.0   131.0   1380      54   1238      53    N      0\n",
      "145278  2016.0   131.0   1386      82   1173      79    N      0\n",
      "145279  2016.0   131.0   1392      80   1436      74    H      0\n",
      "145280  2016.0   131.0   1401      71   1261      38    N      0\n",
      "145281  2016.0   131.0   1419      82   1426      71    N      0\n",
      "145282  2016.0   131.0   1433      76   1172      54    N      0\n",
      "145283  2016.0   131.0   1451      62   1285      59    N      0\n",
      "145284  2016.0   132.0   1114      70   1419      50    N      0\n",
      "145285  2016.0   132.0   1163      72   1272      58    N      0\n",
      "145286  2016.0   132.0   1246      82   1401      77    N      1\n",
      "145287  2016.0   132.0   1277      66   1345      62    N      0\n",
      "145288  2016.0   132.0   1386      87   1433      74    N      0\n",
      "\n",
      "[145286 rows x 8 columns]\n"
     ]
    }
   ],
   "source": [
    "print(new_df)"
   ]
  },
  {
   "cell_type": "code",
   "execution_count": 27,
   "metadata": {},
   "outputs": [],
   "source": [
    "df['Season'].fillna('good',inplace=True)"
   ]
  },
  {
   "cell_type": "code",
   "execution_count": 28,
   "metadata": {},
   "outputs": [
    {
     "name": "stdout",
     "output_type": "stream",
     "text": [
      "         Season  Daynum  Wteam  Wscore  Lteam  Lscore Wloc  Numot\n",
      "0          1985    20.0   1228      81   1328      64    N      0\n",
      "1       Testing    25.0   1106      77   1354      70    H      0\n",
      "2          1985    25.0   1112      63   1223      56    H      0\n",
      "3          1985     NaN   1165      70   1432      54    H      0\n",
      "4       Testing    25.0   1192      86   1447      74    H      0\n",
      "5          1985    25.0   1218      79   1337      78    H      0\n",
      "6          1985    25.0   1228      64   1226      44    N      0\n",
      "7          1985    25.0   1242      58   1268      56    N      0\n",
      "8          1985    25.0   1260      98   1133      80    H      0\n",
      "9          1985    25.0   1305      97   1424      89    H      0\n",
      "10         1985    25.0   1307     103   1288       0    H      0\n",
      "11         1985    25.0   1344      75   1438      71    N      0\n",
      "12         1985    25.0   1374      91   1411      72    H      0\n",
      "13         1985    25.0   1412      70   1397      65    N      0\n",
      "14         1985    25.0   1417      87   1225      58    H      0\n",
      "15         1985    26.0   1116      65   1368      62    H      0\n",
      "16         1985    26.0   1120      92   1391      50    H      0\n",
      "17         1985    26.0   1135      65   1306      60    A      0\n",
      "18         1985    26.0   1143      58   1388      53    H      0\n",
      "19         1985    26.0   1153      50   1184      48    H      0\n",
      "20         1985    26.0   1165      47   1159      40    A      0\n",
      "21         1985    26.0   1171      55   1216      52    H      0\n",
      "22         1985    26.0   1173      76   1134      56    H      0\n",
      "23         1985    26.0   1177      59   1296      58    H      0\n",
      "24         1985    26.0   1193      79   1265      76    A      0\n",
      "25         1985    26.0   1196     106   1416      55    H      0\n",
      "26         1985    26.0   1206      95   1137      77    H      0\n",
      "27         1985    26.0   1210      79   1149      66    H      0\n",
      "28         1985    26.0   1211      64   1102      59    A      0\n",
      "29         1985    26.0   1234      76   1114      47    H      0\n",
      "...         ...     ...    ...     ...    ...     ...  ...    ...\n",
      "145259     2016   130.0   1452      69   1328      67    N      0\n",
      "145260     2016   131.0   1114      72   1418      65    N      0\n",
      "145261     2016   131.0   1138      64   1103      61    N      0\n",
      "145262     2016   131.0   1163      77   1396      62    N      0\n",
      "145263     2016   131.0   1167      57   1308      54    N      0\n",
      "145264     2016   131.0   1201      68   1361      63    N      0\n",
      "145265     2016   131.0   1214      81   1354      69    N      0\n",
      "145266     2016   131.0   1218      64   1253      60    N      0\n",
      "145267     2016   131.0   1242      81   1452      71    N      0\n",
      "145268     2016   131.0   1246      93   1208      80    N      0\n",
      "145269     2016   131.0   1272      74   1408      54    N      0\n",
      "145270     2016   131.0   1277      64   1268      61    N      0\n",
      "145271     2016   131.0   1292      55   1330      53    N      0\n",
      "145272     2016   131.0   1314      61   1438      57    N      0\n",
      "145273     2016   131.0   1332      88   1428      57    N      0\n",
      "145274     2016   131.0   1345      76   1276      59    N      0\n",
      "145275     2016   131.0   1371      69   1437      67    N      0\n",
      "145276     2016   131.0   1372      82   1394      60    N      0\n",
      "145277     2016   131.0   1380      54   1238      53    N      0\n",
      "145278     2016   131.0   1386      82   1173      79    N      0\n",
      "145279     2016   131.0   1392      80   1436      74    H      0\n",
      "145280     2016   131.0   1401      71   1261      38    N      0\n",
      "145281     2016   131.0   1419      82   1426      71    N      0\n",
      "145282     2016   131.0   1433      76   1172      54    N      0\n",
      "145283     2016   131.0   1451      62   1285      59    N      0\n",
      "145284     2016   132.0   1114      70   1419      50    N      0\n",
      "145285     2016   132.0   1163      72   1272      58    N      0\n",
      "145286     2016   132.0   1246      82   1401      77    N      1\n",
      "145287     2016   132.0   1277      66   1345      62    N      0\n",
      "145288     2016   132.0   1386      87   1433      74    N      0\n",
      "\n",
      "[145289 rows x 8 columns]\n"
     ]
    }
   ],
   "source": [
    "print(df)"
   ]
  },
  {
   "cell_type": "code",
   "execution_count": 29,
   "metadata": {},
   "outputs": [],
   "source": [
    "df['Daynum'].fillna('2020',inplace=True)"
   ]
  },
  {
   "cell_type": "code",
   "execution_count": 30,
   "metadata": {},
   "outputs": [
    {
     "name": "stdout",
     "output_type": "stream",
     "text": [
      "         Season Daynum  Wteam  Wscore  Lteam  Lscore Wloc  Numot\n",
      "0          1985     20   1228      81   1328      64    N      0\n",
      "1       Testing     25   1106      77   1354      70    H      0\n",
      "2          1985     25   1112      63   1223      56    H      0\n",
      "3          1985   2020   1165      70   1432      54    H      0\n",
      "4       Testing     25   1192      86   1447      74    H      0\n",
      "5          1985     25   1218      79   1337      78    H      0\n",
      "6          1985     25   1228      64   1226      44    N      0\n",
      "7          1985     25   1242      58   1268      56    N      0\n",
      "8          1985     25   1260      98   1133      80    H      0\n",
      "9          1985     25   1305      97   1424      89    H      0\n",
      "10         1985     25   1307     103   1288       0    H      0\n",
      "11         1985     25   1344      75   1438      71    N      0\n",
      "12         1985     25   1374      91   1411      72    H      0\n",
      "13         1985     25   1412      70   1397      65    N      0\n",
      "14         1985     25   1417      87   1225      58    H      0\n",
      "15         1985     26   1116      65   1368      62    H      0\n",
      "16         1985     26   1120      92   1391      50    H      0\n",
      "17         1985     26   1135      65   1306      60    A      0\n",
      "18         1985     26   1143      58   1388      53    H      0\n",
      "19         1985     26   1153      50   1184      48    H      0\n",
      "20         1985     26   1165      47   1159      40    A      0\n",
      "21         1985     26   1171      55   1216      52    H      0\n",
      "22         1985     26   1173      76   1134      56    H      0\n",
      "23         1985     26   1177      59   1296      58    H      0\n",
      "24         1985     26   1193      79   1265      76    A      0\n",
      "25         1985     26   1196     106   1416      55    H      0\n",
      "26         1985     26   1206      95   1137      77    H      0\n",
      "27         1985     26   1210      79   1149      66    H      0\n",
      "28         1985     26   1211      64   1102      59    A      0\n",
      "29         1985     26   1234      76   1114      47    H      0\n",
      "...         ...    ...    ...     ...    ...     ...  ...    ...\n",
      "145259     2016    130   1452      69   1328      67    N      0\n",
      "145260     2016    131   1114      72   1418      65    N      0\n",
      "145261     2016    131   1138      64   1103      61    N      0\n",
      "145262     2016    131   1163      77   1396      62    N      0\n",
      "145263     2016    131   1167      57   1308      54    N      0\n",
      "145264     2016    131   1201      68   1361      63    N      0\n",
      "145265     2016    131   1214      81   1354      69    N      0\n",
      "145266     2016    131   1218      64   1253      60    N      0\n",
      "145267     2016    131   1242      81   1452      71    N      0\n",
      "145268     2016    131   1246      93   1208      80    N      0\n",
      "145269     2016    131   1272      74   1408      54    N      0\n",
      "145270     2016    131   1277      64   1268      61    N      0\n",
      "145271     2016    131   1292      55   1330      53    N      0\n",
      "145272     2016    131   1314      61   1438      57    N      0\n",
      "145273     2016    131   1332      88   1428      57    N      0\n",
      "145274     2016    131   1345      76   1276      59    N      0\n",
      "145275     2016    131   1371      69   1437      67    N      0\n",
      "145276     2016    131   1372      82   1394      60    N      0\n",
      "145277     2016    131   1380      54   1238      53    N      0\n",
      "145278     2016    131   1386      82   1173      79    N      0\n",
      "145279     2016    131   1392      80   1436      74    H      0\n",
      "145280     2016    131   1401      71   1261      38    N      0\n",
      "145281     2016    131   1419      82   1426      71    N      0\n",
      "145282     2016    131   1433      76   1172      54    N      0\n",
      "145283     2016    131   1451      62   1285      59    N      0\n",
      "145284     2016    132   1114      70   1419      50    N      0\n",
      "145285     2016    132   1163      72   1272      58    N      0\n",
      "145286     2016    132   1246      82   1401      77    N      1\n",
      "145287     2016    132   1277      66   1345      62    N      0\n",
      "145288     2016    132   1386      87   1433      74    N      0\n",
      "\n",
      "[145289 rows x 8 columns]\n"
     ]
    }
   ],
   "source": [
    "print(df)"
   ]
  },
  {
   "cell_type": "markdown",
   "metadata": {},
   "source": [
    "## NumPy Library (Numerical Python)\n",
    "- Processing of N-Dimensional arrays\n",
    "- NumPy is an open-source library available in python library\n",
    "- This is used for mathematical, scientifical and data science programming"
   ]
  },
  {
   "cell_type": "code",
   "execution_count": 32,
   "metadata": {},
   "outputs": [
    {
     "name": "stdout",
     "output_type": "stream",
     "text": [
      "[1 2 3 4 5 6]\n",
      "<class 'numpy.ndarray'>\n"
     ]
    }
   ],
   "source": [
    "import numpy as np\n",
    "li=[1,2,3,4,5,6]\n",
    "c=np.array(li)  #converts a sequence of numbers into a single dimensional array\n",
    "print(c)\n",
    "print(type(c))"
   ]
  },
  {
   "cell_type": "code",
   "execution_count": 33,
   "metadata": {},
   "outputs": [
    {
     "name": "stdout",
     "output_type": "stream",
     "text": [
      "(6,)\n",
      "int32\n"
     ]
    }
   ],
   "source": [
    "print(c.shape) #displays the order of the array\n",
    "print(c.dtype) #displays the type of the array"
   ]
  },
  {
   "cell_type": "code",
   "execution_count": 34,
   "metadata": {},
   "outputs": [
    {
     "data": {
      "text/plain": [
       "array([[ 1,  2,  3,  4],\n",
       "       [10, 12, 14, 16]])"
      ]
     },
     "execution_count": 34,
     "metadata": {},
     "output_type": "execute_result"
    }
   ],
   "source": [
    "a=np.array([(1,2,3,4),(10,12,14,16)]) # Two-Dimensional representation\n",
    "a"
   ]
  },
  {
   "cell_type": "code",
   "execution_count": 35,
   "metadata": {},
   "outputs": [
    {
     "name": "stdout",
     "output_type": "stream",
     "text": [
      "(2, 4)\n",
      "int32\n"
     ]
    }
   ],
   "source": [
    "print(a.shape)\n",
    "print(a.dtype)"
   ]
  },
  {
   "cell_type": "markdown",
   "metadata": {},
   "source": [
    "**np.zeros()**\n",
    "\n",
    "**np.ones()**\n",
    "- To initialize the weights during the first iteration of TensorFlow\n",
    "- TensorFlow is a technique for data processing in data science and machine larning "
   ]
  },
  {
   "cell_type": "code",
   "execution_count": 37,
   "metadata": {},
   "outputs": [
    {
     "name": "stdout",
     "output_type": "stream",
     "text": [
      "[[0. 0.]\n",
      " [0. 0.]]\n"
     ]
    }
   ],
   "source": [
    "x=np.zeros((2,2)) #order of array is 2*2 and datatype is float\n",
    "print(x)"
   ]
  },
  {
   "cell_type": "code",
   "execution_count": 61,
   "metadata": {},
   "outputs": [
    {
     "name": "stdout",
     "output_type": "stream",
     "text": [
      "[[0 0]\n",
      " [0 0]]\n"
     ]
    }
   ],
   "source": [
    "x=np.zeros((2,2),dtype=np.int16) #order of array is 2*2 and datatype is int\n",
    "print(x)"
   ]
  },
  {
   "cell_type": "code",
   "execution_count": 48,
   "metadata": {},
   "outputs": [
    {
     "name": "stdout",
     "output_type": "stream",
     "text": [
      "[[1 1 1]\n",
      " [1 1 1]\n",
      " [1 1 1]]\n"
     ]
    }
   ],
   "source": [
    "x1=np.ones((3,3),dtype=np.int32) #order of array is 3*3 and datatype is int\n",
    "print(x1)"
   ]
  },
  {
   "cell_type": "code",
   "execution_count": 40,
   "metadata": {},
   "outputs": [
    {
     "name": "stdout",
     "output_type": "stream",
     "text": [
      "[ 0  1  2  3  4  5  6  7  8  9 10 11 12 13 14]\n"
     ]
    }
   ],
   "source": [
    "x2=np.arange(15) #adding the values of the specified range into x2\n",
    "print(x2)\n"
   ]
  },
  {
   "cell_type": "code",
   "execution_count": 45,
   "metadata": {},
   "outputs": [
    {
     "name": "stdout",
     "output_type": "stream",
     "text": [
      "[[ 0  1  2  3  4]\n",
      " [ 5  6  7  8  9]\n",
      " [10 11 12 13 14]]\n"
     ]
    }
   ],
   "source": [
    "# To convert the single dimensional array to a two dimensional array\n",
    "x3=x2.reshape(3,5)\n",
    "print(x3)"
   ]
  },
  {
   "cell_type": "code",
   "execution_count": 51,
   "metadata": {},
   "outputs": [
    {
     "name": "stdout",
     "output_type": "stream",
     "text": [
      "[[10 11 12 13 14]\n",
      " [15 16 17 18 19]\n",
      " [20 21 22 23 24]]\n",
      "[[ 0  2  4  6  8]\n",
      " [10 12 14 16 18]\n",
      " [20 22 24 26 28]]\n"
     ]
    }
   ],
   "source": [
    "x4=x3+10  #every value in x3 is added with 10\n",
    "print(x4)\n",
    "x5=x3*2\n",
    "print(x5) #every value in x3 is multiplied by 2"
   ]
  },
  {
   "cell_type": "markdown",
   "metadata": {},
   "source": [
    "### Visualizing the Data\n",
    "- An interesting way to display the DataFrame\n",
    "- With Matlplotlib\n"
   ]
  },
  {
   "cell_type": "code",
   "execution_count": 63,
   "metadata": {},
   "outputs": [
    {
     "data": {
      "image/png": "[encoded data removed]",
      "text/plain": [
       "<Figure size 216x216 with 1 Axes>"
      ]
     },
     "metadata": {
      "needs_background": "light"
     },
     "output_type": "display_data"
    }
   ],
   "source": [
    "import matplotlib.pyplot as plt #pyplot is a sub-package of matplotlib\n",
    "a1=[1,2,3,4,5]\n",
    "a2=[60,70,80,90,10]\n",
    "plt.figure(figsize=(3,3))\n",
    "plt.plot(a1,a2,color='purple')\n",
    "plt.xlabel('X-Axis')\n",
    "plt.ylabel('Y-Axis')\n",
    "plt.show()\n"
   ]
  },
  {
   "cell_type": "code",
   "execution_count": 84,
   "metadata": {},
   "outputs": [
    {
     "data": {
      "image/png": "[encoded data removed]",
      "text/plain": [
       "<Figure size 432x288 with 1 Axes>"
      ]
     },
     "metadata": {
      "needs_background": "light"
     },
     "output_type": "display_data"
    }
   ],
   "source": [
    "marks=[79,82,85,65]\n",
    "divisions=['A','B','C','D']\n",
    "index=np.arange(len(divisions))\n",
    "plt.bar(divisions,marks,width=0.5)\n",
    "plt.show()"
   ]
  },
  {
   "cell_type": "code",
   "execution_count": 83,
   "metadata": {},
   "outputs": [
    {
     "data": {
      "image/png": "[encoded data removed]",
      "text/plain": [
       "<Figure size 432x288 with 1 Axes>"
      ]
     },
     "metadata": {
      "needs_background": "light"
     },
     "output_type": "display_data"
    }
   ],
   "source": [
    "plt.barh(divisions,marks)\n",
    "plt.show()"
   ]
  },
  {
   "cell_type": "code",
   "execution_count": 90,
   "metadata": {},
   "outputs": [
    {
     "data": {
      "image/png": "[encoded data removed]",
      "text/plain": [
       "<Figure size 432x288 with 1 Axes>"
      ]
     },
     "metadata": {},
     "output_type": "display_data"
    }
   ],
   "source": [
    "lang=['Python','Java','C','C++']\n",
    "rating= [74,70,55,60]\n",
    "plt.pie(rating,labels=lang,shadow=True,startangle=90,autopct='%1.1f%%')\n",
    "plt.legend(loc='best')\n",
    "plt.show()"
   ]
  },
  {
   "cell_type": "code",
   "execution_count": null,
   "metadata": {},
   "outputs": [],
   "source": []
  }
 ],
 "metadata": {
  "kernelspec": {
   "display_name": "Python 3",
   "language": "python",
   "name": "python3"
  },
  "language_info": {
   "codemirror_mode": {
    "name": "ipython",
    "version": 3
   },
   "file_extension": ".py",
   "mimetype": "text/x-python",
   "name": "python",
   "nbconvert_exporter": "python",
   "pygments_lexer": "ipython3",
   "version": "3.7.3"
  }
 },
 "nbformat": 4,
 "nbformat_minor": 2
}
