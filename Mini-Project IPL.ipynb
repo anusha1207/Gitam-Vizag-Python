{
 "cells": [
  {
   "cell_type": "markdown",
   "metadata": {},
   "source": [
    "# <h1 align='center'> Mini Project on IPL Data-set</h1></font>\n"
   ]
  },
  {
   "cell_type": "markdown",
   "metadata": {},
   "source": [
    "### Problem Statement\n",
    "**1.Display the count of matches based on the year wise**"
   ]
  },
  {
   "cell_type": "markdown",
   "metadata": {},
   "source": [
    "#### Description\n",
    "- In this problem, we are counting the number of matches that took place in a particular year and displaying the value.\n",
    "- For this, groupby is used for the 'Season_year' and the number of matches is counted.\n"
   ]
  },
  {
   "cell_type": "code",
   "execution_count": 8,
   "metadata": {},
   "outputs": [
    {
     "name": "stdout",
     "output_type": "stream",
     "text": [
      "Season_Year\n",
      "2008    58\n",
      "2009    57\n",
      "2010    60\n",
      "2011    73\n",
      "2012    74\n",
      "2013    76\n",
      "2014    60\n",
      "2015    59\n",
      "2016    60\n",
      "2017    60\n",
      "Name: match_id, dtype: int64\n"
     ]
    }
   ],
   "source": [
    "import pandas as pd\n",
    "filePath='Match.csv'\n",
    "def readMatchData(filePath):\n",
    "    return pd.read_csv(filePath)\n",
    "df=readMatchData(filePath)\n",
    "final=df.groupby('Season_Year').count()\n",
    "final=pd.DataFrame(final)\n",
    "print(final['match_id'])"
   ]
  },
  {
   "cell_type": "markdown",
   "metadata": {},
   "source": [
    "**2. Plot a bar graph no. of matches won by each team in the year 2011**"
   ]
  },
  {
   "cell_type": "code",
   "execution_count": 12,
   "metadata": {},
   "outputs": [
    {
     "data": {
      "image/png": "[encoded data removed]",
      "text/plain": [
       "<Figure size 432x288 with 1 Axes>"
      ]
     },
     "metadata": {
      "needs_background": "light"
     },
     "output_type": "display_data"
    }
   ],
   "source": [
    "import numpy as np\n",
    "import matplotlib.pyplot as plt\n",
    "df=readMatchData(filePath)\n",
    "df1=pd.DataFrame(df[df['Season_Year'].isin(['2011'])])\n",
    "wins=(df1.groupby('match_winner')['Match_SK'].count())\n",
    "teams=df1.Team1.unique()\n",
    "index=np.arange(len(teams))\n",
    "plt.bar(teams,wins,width=0.3)\n",
    "plt.show()\n"
   ]
  },
  {
   "cell_type": "markdown",
   "metadata": {},
   "source": [
    " **3.Print ManOfMatch count of each player in Hyderabad stadium**"
   ]
  },
  {
   "cell_type": "code",
   "execution_count": 7,
   "metadata": {},
   "outputs": [
    {
     "name": "stdout",
     "output_type": "stream",
     "text": [
      "DA Warner            6\n",
      "DW Steyn             3\n",
      "SK Raina             2\n",
      "YK Pathan            2\n",
      "GH Vihari            2\n",
      "A Mishra             2\n",
      "V Sehwag             2\n",
      "SE Marsh             1\n",
      "PC Valthaty          1\n",
      "I Sharma             1\n",
      "DJ Bravo             1\n",
      "R Vinay Kumar        1\n",
      "Mandeep Singh        1\n",
      "B Kumar              1\n",
      "AT Rayudu            1\n",
      "V Kohli              1\n",
      "SL Malinga           1\n",
      "AB Dinda             1\n",
      "MR Marsh             1\n",
      "Mustafizur Rahman    1\n",
      "G Gambhir            1\n",
      "WP Saha              1\n",
      "CH Morris            1\n",
      "DJG Sammy            1\n",
      "MJ McClenaghan       1\n",
      "UT Yadav             1\n",
      "SC Ganguly           1\n",
      "SK Trivedi           1\n",
      "PA Patel             1\n",
      "Name: ManOfMach, dtype: int64\n"
     ]
    }
   ],
   "source": [
    "players=df['ManOfMach'][df['City_Name']==\"Hyderabad\"].value_counts()\n",
    "print(players)"
   ]
  }
 ],
 "metadata": {
  "kernelspec": {
   "display_name": "Python 3",
   "language": "python",
   "name": "python3"
  },
  "language_info": {
   "codemirror_mode": {
    "name": "ipython",
    "version": 3
   },
   "file_extension": ".py",
   "mimetype": "text/x-python",
   "name": "python",
   "nbconvert_exporter": "python",
   "pygments_lexer": "ipython3",
   "version": "3.7.3"
  }
 },
 "nbformat": 4,
 "nbformat_minor": 2
}
